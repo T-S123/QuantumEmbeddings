{
 "cells": [
  {
   "cell_type": "code",
   "execution_count": 4,
   "id": "837b12d8",
   "metadata": {},
   "outputs": [],
   "source": [
    "import numpy as np\n",
    "from qiskit.circuit import ParameterVector\n",
    "from qiskit import QuantumCircuit\n",
    "from qiskit.circuit import Gate\n",
    "\n",
    "class SqueezingGate(Gate):\n",
    "    \"\"\"\n",
    "    Phase space squeezing gate for continuous variables.\n",
    "\n",
    "    S(z) = exp(1/2 * (z^* a^2 - z a^†^2)),\n",
    "\n",
    "    where z = r * exp(i * phi).\n",
    "    \"\"\"\n",
    "\n",
    "    def __init__(self, r, phi):\n",
    "        # Initialize as a gate with 2 parameters (r and phi) acting on 1 qubit\n",
    "        super().__init__(\"S\", 1, [r, phi])\n",
    "\n",
    "    def _define(self):\n",
    "        \"\"\"\n",
    "        Define the decomposition of this gate in terms of more fundamental gates.\n",
    "        \"\"\"\n",
    "        r, phi = self.params\n",
    "\n",
    "        # Creating the corresponding Heisenberg representation matrix for the squeezing gate\n",
    "        cosh_r = np.cosh(r)\n",
    "        sinh_r = np.sinh(r)\n",
    "        M = np.array([\n",
    "            [1, 0, 0],\n",
    "            [0, cosh_r - np.cos(phi) * sinh_r, -np.sin(phi) * sinh_r],\n",
    "            [0, -np.sin(phi) * sinh_r, cosh_r + np.cos(phi) * sinh_r]\n",
    "        ])\n",
    "\n",
    "        # Add this unitary as a custom gate to the quantum circuit\n",
    "        q = QuantumCircuit(1)\n",
    "        q.unitary(M, 0)\n",
    "\n",
    "        self.definition = q\n",
    "\n",
    "    def inverse(self):\n",
    "        \"\"\"Returns the adjoint (inverse) of the squeezing gate.\"\"\"\n",
    "        r, phi = self.params\n",
    "        new_phi = (phi + np.pi) % (2 * np.pi)\n",
    "        return SqueezingGate(r, new_phi)\n",
    "    \n",
    "class SqueezingEmbedding:\n",
    "    def __init__(self, num_qubits: int, amplitude: bool = True):\n",
    "        \"\"\"\n",
    "        Class for embedding a data vector into a quantum circuit using SqueezingGates.\n",
    "\n",
    "        Args:\n",
    "            num_qubits (int): The number of qubits in the circuit.\n",
    "            amplitude (bool): If True, the squeezing amplitude will be parameterized and the phase will be fixed at 0.1.\n",
    "                              If False, the phase will be parameterized and the squeezing amplitude will be fixed at 0.1.\n",
    "        \"\"\"\n",
    "        self.num_qubits = num_qubits\n",
    "        self.amplitude = amplitude\n",
    "        self.parameters = ParameterVector('x', length=num_qubits)\n",
    "\n",
    "    def create_circuit(self):\n",
    "        \"\"\"\n",
    "        Creates and returns a quantum circuit with the specified SqueezingGates applied to each qubit.\n",
    "\n",
    "        Returns:\n",
    "            QuantumCircuit: The generated quantum circuit.\n",
    "        \"\"\"\n",
    "        qc = QuantumCircuit(self.num_qubits)\n",
    "\n",
    "        for i in range(self.num_qubits):\n",
    "            if self.amplitude:\n",
    "                # Parameterize the squeezing amplitude with fixed phase\n",
    "                r = self.parameters[i]\n",
    "                phi = 0.1\n",
    "            else:\n",
    "                # Parameterize the squeezing phase with fixed amplitude\n",
    "                r = 0.1\n",
    "                phi = self.parameters[i]\n",
    "\n",
    "            squeezing_gate = SqueezingGate(r, phi)\n",
    "            qc.append(squeezing_gate, [i])\n",
    "\n",
    "        return qc"
   ]
  },
  {
   "cell_type": "code",
   "execution_count": 7,
   "id": "ec776ffa",
   "metadata": {},
   "outputs": [
    {
     "data": {
      "text/html": [
       "<pre style=\"word-wrap: normal;white-space: pre;background: #fff0;line-height: 1.1;font-family: &quot;Courier New&quot;,Courier,monospace\">     ┌─────────────┐\n",
       "q_0: ┤ S(x[0],0.1) ├\n",
       "     ├─────────────┤\n",
       "q_1: ┤ S(x[1],0.1) ├\n",
       "     ├─────────────┤\n",
       "q_2: ┤ S(x[2],0.1) ├\n",
       "     └─────────────┘</pre>"
      ],
      "text/plain": [
       "     ┌─────────────┐\n",
       "q_0: ┤ S(x[0],0.1) ├\n",
       "     ├─────────────┤\n",
       "q_1: ┤ S(x[1],0.1) ├\n",
       "     ├─────────────┤\n",
       "q_2: ┤ S(x[2],0.1) ├\n",
       "     └─────────────┘"
      ]
     },
     "execution_count": 7,
     "metadata": {},
     "output_type": "execute_result"
    }
   ],
   "source": [
    "embedding = SqueezingEmbedding(num_qubits=3, amplitude=True)\n",
    "circuit = embedding.create_circuit()\n",
    "circuit.draw()"
   ]
  },
  {
   "cell_type": "code",
   "execution_count": null,
   "id": "236fda49",
   "metadata": {},
   "outputs": [],
   "source": []
  }
 ],
 "metadata": {
  "kernelspec": {
   "display_name": "Python 3 (ipykernel)",
   "language": "python",
   "name": "python3"
  },
  "language_info": {
   "codemirror_mode": {
    "name": "ipython",
    "version": 3
   },
   "file_extension": ".py",
   "mimetype": "text/x-python",
   "name": "python",
   "nbconvert_exporter": "python",
   "pygments_lexer": "ipython3",
   "version": "3.11.5"
  }
 },
 "nbformat": 4,
 "nbformat_minor": 5
}
