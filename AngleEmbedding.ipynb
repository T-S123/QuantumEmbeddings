{
 "cells": [
  {
   "cell_type": "code",
   "execution_count": 9,
   "id": "f36ea2df",
   "metadata": {},
   "outputs": [],
   "source": [
    "import qiskit\n",
    "from typing import List, Optional\n",
    "from qiskit import QuantumCircuit\n",
    "from qiskit.circuit import ParameterVector\n",
    "from qiskit.exceptions import QiskitError\n",
    "\n",
    "class AngleEmbedding:\n",
    "    \"\"\"Data embedding ins\n",
    "    Class that implements layers of RX, RY, and/or RZ gates to embed data as quantum gate \n",
    "    parameters to be used for quantum machine learning applications.\n",
    "    \"\"\"\n",
    "    def __init__(\n",
    "        self,\n",
    "        gate_sequence: List[str],\n",
    "        num_qubits: int,\n",
    "        repeat_parameters: Optional[bool] = False\n",
    "    ):\n",
    "        \n",
    "        r\"\"\"\n",
    "        Args:\n",
    "            gate_sequence: Describes the sequence of gates applied. If multiple gates are applied,\n",
    "            they will appear in the quantum circuit in they order they were inputted into the class\n",
    "            as a list.\n",
    "            \n",
    "            Example:\n",
    "            \n",
    "            Below is the result of the sequence of gates ['RY', 'RX', 'RZ'] as the gate_sequence parameter.\n",
    "            \n",
    "            q_0: ┤ Ry(x[0]) ├┤ Rz(x[2]) ├┤ Rx(x[4]) ├\n",
    "                 ├──────────┤├──────────┤├──────────┤\n",
    "            q_1: ┤ Ry(x[1]) ├┤ Rz(x[3]) ├┤ Rx(x[5]) ├\n",
    "\n",
    "            num_qubits: Integer that describes the number of qubits that angle embedding is applied on. Varies because the\n",
    "            number of parameters possible to input into the circuit varies baseds on repeat_parameters.\n",
    "            \n",
    "            repeat_parameters: Default is false. Determines if quantum gate parameters can be repeated or not.\n",
    "            \n",
    "            Example:\n",
    "            \n",
    "            Below is the result of a circuit that has parameters repeated (repeat_parameters = True):\n",
    "            \n",
    "            q_0: ┤ Ry(x[0]) ├┤ Rz(x[0]) ├┤ Rx(x[0]) ├\n",
    "                 ├──────────┤├──────────┤├──────────┤\n",
    "            q_1: ┤ Ry(x[1]) ├┤ Rz(x[1]) ├┤ Rx(x[1]) ├\n",
    "            \n",
    "            Below is the result of a circuit that has parameters repeated (repeat_parameters = False), allowing for more \n",
    "            elements to be inputted into the embedding:\n",
    "\n",
    "            q_0: ┤ Ry(x[0]) ├┤ Rz(x[2]) ├┤ Rx(x[4]) ├\n",
    "                 ├──────────┤├──────────┤├──────────┤\n",
    "            q_1: ┤ Ry(x[1]) ├┤ Rz(x[3]) ├┤ Rx(x[5]) ├\n",
    "            \n",
    "        **References:**\n",
    "        [1] https://docs.pennylane.ai/en/stable/introduction/templates.html\n",
    "\n",
    "        \"\"\"\n",
    "        \n",
    "        if not isinstance(gate_sequence, list) or not all(isinstance(gate, str) for gate in gate_sequence):\n",
    "            raise QiskitError(\"gate_sequence must be a list of strings.\")\n",
    "        \n",
    "        if num_qubits <= 0:\n",
    "            raise QiskitError(\"num_qubits must be a positive integer.\")\n",
    "        \n",
    "        valid_gates = {'RY', 'RZ', 'RX'}\n",
    "        if any(gate not in valid_gates for gate in gate_sequence):\n",
    "            raise QiskitError(f\"gate_sequence contains invalid gates. Valid gates are {valid_gates}.\")\n",
    "        \n",
    "        self.gate_sequence = gate_sequence\n",
    "        self.num_qubits = num_qubits\n",
    "        self.repeat_parameters = repeat_parameters\n",
    "    \n",
    "    def _layer_sequence(self):\n",
    "        layers = len(self.gate_sequence)\n",
    "        x_length = self.num_qubits if self.repeat_parameters else self.num_qubits * layers\n",
    "        x = ParameterVector('x', length=x_length)\n",
    "        circuit = QuantumCircuit(self.num_qubits)\n",
    "    \n",
    "        index = 0\n",
    "        for gate in self.gate_sequence:\n",
    "            for j in range(self.num_qubits):\n",
    "                param = x[j] if self.repeat_parameters else x[index]\n",
    "                if gate == 'RY':\n",
    "                    circuit.ry(param, j)\n",
    "                elif gate == 'RZ':\n",
    "                    circuit.rz(param, j)\n",
    "                elif gate == 'RX':\n",
    "                    circuit.rx(param, j)\n",
    "                if not self.repeat_parameters:\n",
    "                    index += 1\n",
    "    \n",
    "        return circuit"
   ]
  },
  {
   "cell_type": "code",
   "execution_count": 13,
   "id": "081fcd6b",
   "metadata": {},
   "outputs": [],
   "source": [
    "embedding = AngleEmbedding(['RY', 'RZ', 'RX'], 2, repeat_parameters=False)\n",
    "circuit = embedding._layer_sequence()"
   ]
  },
  {
   "cell_type": "code",
   "execution_count": 14,
   "id": "e89f54e8",
   "metadata": {},
   "outputs": [
    {
     "data": {
      "text/html": [
       "<pre style=\"word-wrap: normal;white-space: pre;background: #fff0;line-height: 1.1;font-family: &quot;Courier New&quot;,Courier,monospace\">     ┌──────────┐┌──────────┐┌──────────┐\n",
       "q_0: ┤ Ry(x[0]) ├┤ Rz(x[2]) ├┤ Rx(x[4]) ├\n",
       "     ├──────────┤├──────────┤├──────────┤\n",
       "q_1: ┤ Ry(x[1]) ├┤ Rz(x[3]) ├┤ Rx(x[5]) ├\n",
       "     └──────────┘└──────────┘└──────────┘</pre>"
      ],
      "text/plain": [
       "     ┌──────────┐┌──────────┐┌──────────┐\n",
       "q_0: ┤ Ry(x[0]) ├┤ Rz(x[2]) ├┤ Rx(x[4]) ├\n",
       "     ├──────────┤├──────────┤├──────────┤\n",
       "q_1: ┤ Ry(x[1]) ├┤ Rz(x[3]) ├┤ Rx(x[5]) ├\n",
       "     └──────────┘└──────────┘└──────────┘"
      ]
     },
     "execution_count": 14,
     "metadata": {},
     "output_type": "execute_result"
    }
   ],
   "source": [
    "circuit.draw()"
   ]
  },
  {
   "cell_type": "code",
   "execution_count": null,
   "id": "8030e86f",
   "metadata": {},
   "outputs": [],
   "source": []
  }
 ],
 "metadata": {
  "kernelspec": {
   "display_name": "Python 3 (ipykernel)",
   "language": "python",
   "name": "python3"
  },
  "language_info": {
   "codemirror_mode": {
    "name": "ipython",
    "version": 3
   },
   "file_extension": ".py",
   "mimetype": "text/x-python",
   "name": "python",
   "nbconvert_exporter": "python",
   "pygments_lexer": "ipython3",
   "version": "3.11.5"
  }
 },
 "nbformat": 4,
 "nbformat_minor": 5
}
