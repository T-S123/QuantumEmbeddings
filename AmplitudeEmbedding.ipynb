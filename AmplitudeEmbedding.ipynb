{
 "cells": [
  {
   "cell_type": "code",
   "execution_count": 4,
   "id": "3e369d38",
   "metadata": {},
   "outputs": [],
   "source": [
    "import qiskit\n",
    "from qiskit import QuantumCircuit\n",
    "from qiskit.circuit import ParameterVector\n",
    "from qiskit.exceptions import QiskitError\n",
    "\n",
    "class AmplitudeEmbedding:\n",
    "    \n",
    "    def __init__(\n",
    "        self,\n",
    "        num_qubits: int\n",
    "    \n",
    "    ):\n",
    "        \n",
    "        \"\"\"\n",
    "    Class that generates a general feature map that can map any statevector given input in the form of angles.\n",
    "    \"\"\"\n",
    "        \n",
    "        r\"\"\"\n",
    "        Args:\n",
    "\n",
    "            num_qubits: Integer that describes the number of qubits that amplitude embedding is being applied on.\n",
    "            Note: To map a statevector with 8 elements only requires 3 qubits due to the log base 2 of 8 = 3.\n",
    "            \n",
    "        Computing the angles can be done with help from [2]. DO NOT TRY TO CREATE A STATEVECTOR IF YOU DO NOT HAVE AN\n",
    "        ADEQUATE NUMBER OF ANGLE PARAMETERS. This error is outside of the class.\n",
    "            \n",
    "        **References:**\n",
    "        [1] https://docs.pennylane.ai/en/stable/introduction/templates.html\n",
    "\n",
    "        [2] https://github.com/Qiskit/qiskit/blob/stable/0.20/qiskit/circuit/library/data_preparation/state_preparation.py\n",
    "        \"\"\"\n",
    "    \n",
    "        if num_qubits <= 0:\n",
    "            raise QiskitError(\"num_qubits must be a positive integer.\")\n",
    "            \n",
    "        self.num_qubits = num_qubits\n",
    "        self.target_sequences = self.generate_target_sequences()\n",
    "        num_crx_gates = sum(len(seq) for seq in self.target_sequences)\n",
    "        self.num_gates = sum(2**i for i in range(1, num_qubits + 1)) * 2 + num_crx_gates  \n",
    "        self.parameters = ParameterVector('x', length=self.num_gates)\n",
    "\n",
    "    def generate_target_sequences(self):\n",
    "        def generate_sequence(n):\n",
    "            if n == 2:\n",
    "                return [1, 1]\n",
    "            elif n == 3:\n",
    "                return [1, 2, 1]\n",
    "            else:\n",
    "                previous_sequence = generate_sequence(n - 1)\n",
    "                return previous_sequence + [n - 1] + previous_sequence\n",
    "\n",
    "        all_sequences = []\n",
    "        for n in range(self.num_qubits, 1, -1):\n",
    "            all_sequences.append(generate_sequence(n))\n",
    "        return all_sequences\n",
    "\n",
    "    def create_quantum_circuit(self):\n",
    "        array = [(2 ** i) // 2 for i in range(self.num_qubits, 0, -1)]\n",
    "\n",
    "        qc = QuantumCircuit(self.num_qubits)\n",
    "\n",
    "        param_index = 0  \n",
    "\n",
    "        for qubit, num_gates in enumerate(array):\n",
    "            if qubit < len(self.target_sequences):\n",
    "                target_sequence = self.target_sequences[qubit]\n",
    "            else:\n",
    "                target_sequence = [1] * (num_gates - 1)\n",
    "\n",
    "            for i in range(num_gates):\n",
    "                qc.rz(-self.parameters[param_index], qubit)\n",
    "                param_index += 1\n",
    "                if i < num_gates - 1:\n",
    "                    target_qubit = (qubit + target_sequence[i % len(target_sequence)]) % self.num_qubits\n",
    "                    qc.crx(-self.parameters[param_index], target_qubit, qubit)\n",
    "                    param_index += 1\n",
    "                    \n",
    "            for i in range(num_gates):\n",
    "                qc.ry(-self.parameters[param_index], qubit)\n",
    "                param_index += 1\n",
    "                if i < num_gates - 1:\n",
    "                    target_qubit = (qubit + target_sequence[i % len(target_sequence)]) % self.num_qubits\n",
    "                    qc.crx(-self.parameters[param_index], target_qubit, qubit)\n",
    "                    param_index += 1\n",
    "\n",
    "        return qc.inverse()"
   ]
  },
  {
   "cell_type": "code",
   "execution_count": 5,
   "id": "bb78db51",
   "metadata": {},
   "outputs": [],
   "source": [
    "quantum_circuit = AmplitudeEmbedding(num_qubits=3).create_quantum_circuit()"
   ]
  },
  {
   "cell_type": "code",
   "execution_count": 6,
   "id": "897777e4",
   "metadata": {},
   "outputs": [
    {
     "data": {
      "image/png": "[encoded data removed]",
      "text/plain": [
       "<Figure size 1792.5x284.278 with 1 Axes>"
      ]
     },
     "execution_count": 6,
     "metadata": {},
     "output_type": "execute_result"
    }
   ],
   "source": [
    "quantum_circuit.draw(output='mpl')"
   ]
  }
 ],
 "metadata": {
  "kernelspec": {
   "display_name": "Python 3 (ipykernel)",
   "language": "python",
   "name": "python3"
  },
  "language_info": {
   "codemirror_mode": {
    "name": "ipython",
    "version": 3
   },
   "file_extension": ".py",
   "mimetype": "text/x-python",
   "name": "python",
   "nbconvert_exporter": "python",
   "pygments_lexer": "ipython3",
   "version": "3.11.5"
  }
 },
 "nbformat": 4,
 "nbformat_minor": 5
}
