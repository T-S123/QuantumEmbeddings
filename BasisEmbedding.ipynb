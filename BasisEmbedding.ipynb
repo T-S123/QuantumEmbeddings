{
 "cells": [
  {
   "cell_type": "code",
   "execution_count": 12,
   "id": "78b81ea7",
   "metadata": {},
   "outputs": [],
   "source": [
    "from qiskit import QuantumCircuit\n",
    "from qiskit.circuit import ParameterVector\n",
    "from qiskit.exceptions import QiskitError\n",
    "import numpy as np\n",
    "\n",
    "class BasisEmbedding:\n",
    "    \"\"\"\n",
    "    Class that converts binary strings into respective qubit states. \n",
    "    \"\"\"\n",
    "    \n",
    "    def __init__(self, num_qubits: int):\n",
    "        \"\"\"\n",
    "        Args:\n",
    "            num_qubits: Integer that describes the number of qubits that basis embedding is applied on. \n",
    "                        Also determines the number of elements that can be embedded into the circuit \n",
    "                        (# of elements = num_qubits).\n",
    "\n",
    "            Example:\n",
    "                embedding = BasisEmbedding(4)\n",
    "                print(embedding.get_circuit().draw())\n",
    "                \n",
    "                q_0: ┤ Rx(x[0]) ├\n",
    "                     ├──────────┤\n",
    "                q_1: ┤ Rx(x[1]) ├\n",
    "                     ├──────────┤\n",
    "                q_2: ┤ Rx(x[2]) ├\n",
    "                     ├──────────┤\n",
    "                q_3: ┤ Rx(x[3]) ├\n",
    "\n",
    "        **References:**\n",
    "        [1] https://docs.pennylane.ai/en/stable/introduction/templates.html\n",
    "        \"\"\"\n",
    "        if num_qubits <= 0:\n",
    "            raise QiskitError(\"num_qubits must be a positive integer.\")\n",
    "        \n",
    "        self.num_qubits = num_qubits\n",
    "        self.params = ParameterVector('x', length=num_qubits)\n",
    "        self.circuit = self.create_circuit()\n",
    "\n",
    "    def create_circuit(self):\n",
    "        qc = QuantumCircuit(self.num_qubits)\n",
    "\n",
    "        for qubit in range(self.num_qubits):\n",
    "            qc.rx(np.pi * self.params[qubit], qubit)\n",
    "\n",
    "        return qc\n",
    "\n",
    "    def get_circuit(self):\n",
    "        return self.circuit\n"
   ]
  },
  {
   "cell_type": "code",
   "execution_count": 13,
   "id": "849662ad",
   "metadata": {},
   "outputs": [
    {
     "name": "stdout",
     "output_type": "stream",
     "text": [
      "     ┌────────────┐\n",
      "q_0: ┤ Rx(π*x[0]) ├\n",
      "     ├────────────┤\n",
      "q_1: ┤ Rx(π*x[1]) ├\n",
      "     ├────────────┤\n",
      "q_2: ┤ Rx(π*x[2]) ├\n",
      "     ├────────────┤\n",
      "q_3: ┤ Rx(π*x[3]) ├\n",
      "     └────────────┘\n"
     ]
    }
   ],
   "source": [
    "embedding = BasisEmbedding(4)\n",
    "print(embedding.get_circuit().draw())"
   ]
  }
 ],
 "metadata": {
  "kernelspec": {
   "display_name": "Python 3 (ipykernel)",
   "language": "python",
   "name": "python3"
  },
  "language_info": {
   "codemirror_mode": {
    "name": "ipython",
    "version": 3
   },
   "file_extension": ".py",
   "mimetype": "text/x-python",
   "name": "python",
   "nbconvert_exporter": "python",
   "pygments_lexer": "ipython3",
   "version": "3.11.5"
  }
 },
 "nbformat": 4,
 "nbformat_minor": 5
}
