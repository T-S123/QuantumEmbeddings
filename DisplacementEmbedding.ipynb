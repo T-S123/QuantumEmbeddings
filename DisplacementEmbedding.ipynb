{
 "cells": [
  {
   "cell_type": "code",
   "execution_count": 1,
   "id": "e808feeb",
   "metadata": {},
   "outputs": [],
   "source": [
    "import numpy as np\n",
    "from qiskit import QuantumCircuit\n",
    "from qiskit.circuit import ParameterVector\n",
    "from qiskit.circuit import Gate\n",
    "from qiskit.circuit.library.standard_gates import UGate\n",
    "\n",
    "class DisplacementGate(Gate):\n",
    "    \"\"\"\n",
    "    Phase space displacement gate for continuous variables.\n",
    "\n",
    "    D(a, phi) = exp(-i * sqrt(2/hbar) * (re(alpha) * p - im(alpha) * x))\n",
    "\n",
    "    where alpha = a * exp(i * phi).\n",
    "    \"\"\"\n",
    "\n",
    "    def __init__(self, a, phi):\n",
    "        # Initialize as a gate with 2 parameters (a and phi) acting on 1 qubit\n",
    "        super().__init__(\"D\", 1, [a, phi])\n",
    "\n",
    "    def _define(self):\n",
    "        \"\"\"\n",
    "        Define the decomposition of this gate in terms of more fundamental gates.\n",
    "        \"\"\"\n",
    "        a, phi = self.params\n",
    "\n",
    "        # Creating the corresponding unitary matrix for the displacement gate\n",
    "        D_matrix = np.array([\n",
    "            [1, 0, 0],\n",
    "            [2 * a * np.cos(phi), 1, 0],\n",
    "            [2 * a * np.sin(phi), 0, 1]\n",
    "        ])\n",
    "\n",
    "        # Add this unitary as a custom gate to the quantum circuit\n",
    "        q = QuantumCircuit(1)\n",
    "        q.unitary(D_matrix, 0)\n",
    "\n",
    "        self.definition = q\n",
    "\n",
    "    def inverse(self):\n",
    "        \"\"\"Returns the adjoint (inverse) of the displacement gate.\"\"\"\n",
    "        a, phi = self.params\n",
    "        new_phi = (phi + np.pi) % (2 * np.pi)\n",
    "        return DisplacementGate(a, new_phi)\n",
    "\n",
    "class DisplacementEmbedding:\n",
    "    def __init__(self, num_qubits: int, amplitude: bool = True):\n",
    "        \"\"\"\n",
    "        Class for embedding a data vector into a quantum circuit using DisplacementGates.\n",
    "\n",
    "        Args:\n",
    "            num_qubits (int): The number of qubits in the circuit.\n",
    "            amplitude (bool): If True, the amplitude will be parameterized and the phase will be fixed at 0.1.\n",
    "                              If False, the phase will be parameterized and the amplitude will be fixed at 0.1.\n",
    "        \"\"\"\n",
    "        self.num_qubits = num_qubits\n",
    "        self.amplitude = amplitude\n",
    "        self.parameters = ParameterVector('x', length=num_qubits)\n",
    "\n",
    "    def create_circuit(self):\n",
    "        \"\"\"\n",
    "        Creates and returns a quantum circuit with the specified DisplacementGates applied to each qubit.\n",
    "\n",
    "        Returns:\n",
    "            QuantumCircuit: The generated quantum circuit.\n",
    "        \"\"\"\n",
    "        qc = QuantumCircuit(self.num_qubits)\n",
    "\n",
    "        for i in range(self.num_qubits):\n",
    "            if self.amplitude:\n",
    "                # Parameterize the amplitude with fixed phase\n",
    "                amplitude = self.parameters[i]\n",
    "                phase = 0.1\n",
    "            else:\n",
    "                # Parameterize the phase with fixed amplitude\n",
    "                amplitude = 0.1\n",
    "                phase = self.parameters[i]\n",
    "\n",
    "            displacement_gate = DisplacementGate(amplitude, phase)\n",
    "            qc.append(displacement_gate, [i])\n",
    "\n",
    "        return qc"
   ]
  },
  {
   "cell_type": "code",
   "execution_count": 2,
   "id": "1b0bbf2d",
   "metadata": {},
   "outputs": [
    {
     "data": {
      "text/html": [
       "<pre style=\"word-wrap: normal;white-space: pre;background: #fff0;line-height: 1.1;font-family: &quot;Courier New&quot;,Courier,monospace\">     ┌─────────────┐\n",
       "q_0: ┤ D(x[0],0.1) ├\n",
       "     ├─────────────┤\n",
       "q_1: ┤ D(x[1],0.1) ├\n",
       "     ├─────────────┤\n",
       "q_2: ┤ D(x[2],0.1) ├\n",
       "     └─────────────┘</pre>"
      ],
      "text/plain": [
       "     ┌─────────────┐\n",
       "q_0: ┤ D(x[0],0.1) ├\n",
       "     ├─────────────┤\n",
       "q_1: ┤ D(x[1],0.1) ├\n",
       "     ├─────────────┤\n",
       "q_2: ┤ D(x[2],0.1) ├\n",
       "     └─────────────┘"
      ]
     },
     "execution_count": 2,
     "metadata": {},
     "output_type": "execute_result"
    }
   ],
   "source": [
    "embedding = DisplacementEmbedding(num_qubits=3, amplitude=True)\n",
    "circuit = embedding.create_circuit()\n",
    "circuit.draw()"
   ]
  },
  {
   "cell_type": "code",
   "execution_count": null,
   "id": "9fc8d435",
   "metadata": {},
   "outputs": [],
   "source": []
  }
 ],
 "metadata": {
  "kernelspec": {
   "display_name": "Python 3 (ipykernel)",
   "language": "python",
   "name": "python3"
  },
  "language_info": {
   "codemirror_mode": {
    "name": "ipython",
    "version": 3
   },
   "file_extension": ".py",
   "mimetype": "text/x-python",
   "name": "python",
   "nbconvert_exporter": "python",
   "pygments_lexer": "ipython3",
   "version": "3.11.5"
  }
 },
 "nbformat": 4,
 "nbformat_minor": 5
}
